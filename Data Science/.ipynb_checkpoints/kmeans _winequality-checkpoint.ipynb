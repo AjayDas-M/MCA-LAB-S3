{
 "cells": [
  {
   "cell_type": "code",
   "execution_count": 2,
   "id": "11d3b6b9-a98d-4618-9663-5fd6968ce06d",
   "metadata": {},
   "outputs": [
    {
     "name": "stdout",
     "output_type": "stream",
     "text": [
      "<class 'pandas.core.frame.DataFrame'>\n",
      "RangeIndex: 6497 entries, 0 to 6496\n",
      "Data columns (total 13 columns):\n",
      " #   Column                Non-Null Count  Dtype  \n",
      "---  ------                --------------  -----  \n",
      " 0   type                  6497 non-null   object \n",
      " 1   fixed acidity         6487 non-null   float64\n",
      " 2   volatile acidity      6489 non-null   float64\n",
      " 3   citric acid           6494 non-null   float64\n",
      " 4   residual sugar        6495 non-null   float64\n",
      " 5   chlorides             6495 non-null   float64\n",
      " 6   free sulfur dioxide   6497 non-null   float64\n",
      " 7   total sulfur dioxide  6497 non-null   float64\n",
      " 8   density               6497 non-null   float64\n",
      " 9   pH                    6488 non-null   float64\n",
      " 10  sulphates             6493 non-null   float64\n",
      " 11  alcohol               6497 non-null   float64\n",
      " 12  quality               6497 non-null   int64  \n",
      "dtypes: float64(11), int64(1), object(1)\n",
      "memory usage: 660.0+ KB\n"
     ]
    },
    {
     "data": {
      "text/plain": [
       "(    type  fixed acidity  volatile acidity  citric acid  residual sugar  \\\n",
       " 0  white            7.0              0.27         0.36            20.7   \n",
       " 1  white            6.3              0.30         0.34             1.6   \n",
       " 2  white            8.1              0.28         0.40             6.9   \n",
       " 3  white            7.2              0.23         0.32             8.5   \n",
       " 4  white            7.2              0.23         0.32             8.5   \n",
       " \n",
       "    chlorides  free sulfur dioxide  total sulfur dioxide  density    pH  \\\n",
       " 0      0.045                 45.0                 170.0   1.0010  3.00   \n",
       " 1      0.049                 14.0                 132.0   0.9940  3.30   \n",
       " 2      0.050                 30.0                  97.0   0.9951  3.26   \n",
       " 3      0.058                 47.0                 186.0   0.9956  3.19   \n",
       " 4      0.058                 47.0                 186.0   0.9956  3.19   \n",
       " \n",
       "    sulphates  alcohol  quality  \n",
       " 0       0.45      8.8        6  \n",
       " 1       0.49      9.5        6  \n",
       " 2       0.44     10.1        6  \n",
       " 3       0.40      9.9        6  \n",
       " 4       0.40      9.9        6  ,\n",
       " None)"
      ]
     },
     "execution_count": 2,
     "metadata": {},
     "output_type": "execute_result"
    }
   ],
   "source": [
    "import pandas as pd\n",
    "\n",
    "# Load the dataset\n",
    "data_path = 'datasets/Wine_Quality.csv'\n",
    "wine_data = pd.read_csv(data_path)\n",
    "\n",
    "# Display the first few rows and check for any basic information about the dataset\n",
    "wine_data.head(), wine_data.info()\n"
   ]
  },
  {
   "cell_type": "code",
   "execution_count": 3,
   "id": "7e9b4a03-508b-4f49-a5c2-310e849d41ff",
   "metadata": {},
   "outputs": [
    {
     "data": {
      "text/plain": [
       "(6463, 12)"
      ]
     },
     "execution_count": 3,
     "metadata": {},
     "output_type": "execute_result"
    }
   ],
   "source": [
    "# Drop rows with missing values for simplicity\n",
    "wine_data_cleaned = wine_data.dropna()\n",
    "\n",
    "# Drop the non-numeric 'type' column for clustering purposes\n",
    "wine_data_cleaned = wine_data_cleaned.drop(columns=['type'])\n",
    "\n",
    "# Display the shape of the cleaned dataset\n",
    "wine_data_cleaned.shape\n"
   ]
  },
  {
   "cell_type": "code",
   "execution_count": 4,
   "id": "712e3393-6a37-4f67-89f9-c418957dcacb",
   "metadata": {},
   "outputs": [
    {
     "name": "stderr",
     "output_type": "stream",
     "text": [
      "/home/user/.local/lib/python3.8/site-packages/sklearn/cluster/_kmeans.py:1416: FutureWarning: The default value of `n_init` will change from 10 to 'auto' in 1.4. Set the value of `n_init` explicitly to suppress the warning\n",
      "  super()._check_params_vs_input(X, default_n_init=10)\n",
      "/home/user/.local/lib/python3.8/site-packages/sklearn/cluster/_kmeans.py:1416: FutureWarning: The default value of `n_init` will change from 10 to 'auto' in 1.4. Set the value of `n_init` explicitly to suppress the warning\n",
      "  super()._check_params_vs_input(X, default_n_init=10)\n",
      "/home/user/.local/lib/python3.8/site-packages/sklearn/cluster/_kmeans.py:1416: FutureWarning: The default value of `n_init` will change from 10 to 'auto' in 1.4. Set the value of `n_init` explicitly to suppress the warning\n",
      "  super()._check_params_vs_input(X, default_n_init=10)\n",
      "/home/user/.local/lib/python3.8/site-packages/sklearn/cluster/_kmeans.py:1416: FutureWarning: The default value of `n_init` will change from 10 to 'auto' in 1.4. Set the value of `n_init` explicitly to suppress the warning\n",
      "  super()._check_params_vs_input(X, default_n_init=10)\n",
      "/home/user/.local/lib/python3.8/site-packages/sklearn/cluster/_kmeans.py:1416: FutureWarning: The default value of `n_init` will change from 10 to 'auto' in 1.4. Set the value of `n_init` explicitly to suppress the warning\n",
      "  super()._check_params_vs_input(X, default_n_init=10)\n",
      "/home/user/.local/lib/python3.8/site-packages/sklearn/cluster/_kmeans.py:1416: FutureWarning: The default value of `n_init` will change from 10 to 'auto' in 1.4. Set the value of `n_init` explicitly to suppress the warning\n",
      "  super()._check_params_vs_input(X, default_n_init=10)\n",
      "/home/user/.local/lib/python3.8/site-packages/sklearn/cluster/_kmeans.py:1416: FutureWarning: The default value of `n_init` will change from 10 to 'auto' in 1.4. Set the value of `n_init` explicitly to suppress the warning\n",
      "  super()._check_params_vs_input(X, default_n_init=10)\n",
      "/home/user/.local/lib/python3.8/site-packages/sklearn/cluster/_kmeans.py:1416: FutureWarning: The default value of `n_init` will change from 10 to 'auto' in 1.4. Set the value of `n_init` explicitly to suppress the warning\n",
      "  super()._check_params_vs_input(X, default_n_init=10)\n",
      "/home/user/.local/lib/python3.8/site-packages/sklearn/cluster/_kmeans.py:1416: FutureWarning: The default value of `n_init` will change from 10 to 'auto' in 1.4. Set the value of `n_init` explicitly to suppress the warning\n",
      "  super()._check_params_vs_input(X, default_n_init=10)\n",
      "/home/user/.local/lib/python3.8/site-packages/sklearn/cluster/_kmeans.py:1416: FutureWarning: The default value of `n_init` will change from 10 to 'auto' in 1.4. Set the value of `n_init` explicitly to suppress the warning\n",
      "  super()._check_params_vs_input(X, default_n_init=10)\n"
     ]
    },
    {
     "data": {
      "image/png": "[encoded data removed]",
      "text/plain": [
       "<Figure size 800x500 with 1 Axes>"
      ]
     },
     "metadata": {},
     "output_type": "display_data"
    }
   ],
   "source": [
    "from sklearn.cluster import KMeans\n",
    "import matplotlib.pyplot as plt\n",
    "\n",
    "# Determine the optimal number of clusters using the elbow method\n",
    "sse = []  # Sum of squared errors for each k\n",
    "k_values = range(1, 11)  # Trying k values from 1 to 10\n",
    "\n",
    "for k in k_values:\n",
    "    kmeans = KMeans(n_clusters=k, random_state=0)\n",
    "    kmeans.fit(wine_data_cleaned)\n",
    "    sse.append(kmeans.inertia_)\n",
    "\n",
    "# Plot the SSE values against k values\n",
    "plt.figure(figsize=(8, 5))\n",
    "plt.plot(k_values, sse, marker='o')\n",
    "plt.xlabel(\"Number of Clusters (k)\")\n",
    "plt.ylabel(\"Sum of Squared Errors (SSE)\")\n",
    "plt.title(\"Elbow Method to Determine Optimal k\")\n",
    "plt.show()\n"
   ]
  },
  {
   "cell_type": "code",
   "execution_count": null,
   "id": "9ba55359-17fe-4b84-a06f-57b0a2c41a98",
   "metadata": {},
   "outputs": [],
   "source": [
    "from sklearn.cluster import KMeans\n",
    "import numpy as np\n",
    "import pandas as pd\n",
    "import matplotlib.pyplot as plt\n",
    "\n",
    "# Load and clean the data\n",
    "data_path = 'datasets/Wine_Quality.csv'\n",
    "wine_data = pd.read_csv(data_path)\n",
    "\n",
    "# Drop rows with missing values and the 'type' column\n",
    "wine_data_cleaned = wine_data.dropna().drop(columns=['type'])\n",
    "\n",
    "# Step 1: Elbow Method to find optimal k\n",
    "sse = []  # Sum of squared errors for each k\n",
    "k_values = range(1, 11)  # Trying k values from 1 to 10\n",
    "\n",
    "for k in k_values:\n",
    "    kmeans = KMeans(n_clusters=k, random_state=0)\n",
    "    kmeans.fit(wine_data_cleaned)\n",
    "    sse.append(kmeans.inertia_)\n",
    "\n",
    "# Plot the SSE values against k values\n",
    "plt.figure(figsize=(8, 5))\n",
    "plt.plot(k_values, sse, marker='o')\n",
    "plt.xlabel(\"Number of Clusters (k)\")\n",
    "plt.ylabel(\"Sum of Squared Errors (SSE)\")\n",
    "plt.title(\"Elbow Method to Determine Optimal k\")\n",
    "plt.show()\n",
    "\n",
    "# Choose an optimal k based on the elbow plot (e.g., k = 3)\n",
    "optimal_k = 3\n",
    "\n",
    "# Step 2: Build the k-means model with the optimal k\n",
    "kmeans_model = KMeans(n_clusters=optimal_k, random_state=0)\n",
    "kmeans_model.fit(wine_data_cleaned)\n",
    "\n",
    "# Step 3: Predict using new, unknown values\n",
    "# Example unknown wine characteristics\n",
    "unknown_values = np.array([[7.0, 0.3, 0.3, 1.6, 0.04, 14.0, 132.0, 0.994, 3.3, 0.49, 9.5, 6]])\n",
    "\n",
    "# Predict the cluster for the unknown values\n",
    "predicted_cluster = kmeans_model.predict(unknown_values)\n",
    "\n",
    "print(\"Predicted cluster for the unknown wine data:\", predicted_cluster[0])\n"
   ]
  }
 ],
 "metadata": {
  "kernelspec": {
   "display_name": "Python 3 (ipykernel)",
   "language": "python",
   "name": "python3"
  },
  "language_info": {
   "codemirror_mode": {
    "name": "ipython",
    "version": 3
   },
   "file_extension": ".py",
   "mimetype": "text/x-python",
   "name": "python",
   "nbconvert_exporter": "python",
   "pygments_lexer": "ipython3",
   "version": "3.8.10"
  }
 },
 "nbformat": 4,
 "nbformat_minor": 5
}
