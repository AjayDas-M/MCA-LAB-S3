{
 "cells": [
  {
   "cell_type": "code",
   "execution_count": 7,
   "id": "996dc87b-702a-4f6b-925c-73a5c4abcb98",
   "metadata": {},
   "outputs": [
    {
     "name": "stderr",
     "output_type": "stream",
     "text": [
      "/home/user/.local/lib/python3.8/site-packages/sklearn/metrics/_classification.py:1471: UndefinedMetricWarning: Precision and F-score are ill-defined and being set to 0.0 in labels with no predicted samples. Use `zero_division` parameter to control this behavior.\n",
      "  _warn_prf(average, modifier, msg_start, len(result))\n",
      "/home/user/.local/lib/python3.8/site-packages/sklearn/metrics/_classification.py:1471: UndefinedMetricWarning: Precision and F-score are ill-defined and being set to 0.0 in labels with no predicted samples. Use `zero_division` parameter to control this behavior.\n",
      "  _warn_prf(average, modifier, msg_start, len(result))\n",
      "/home/user/.local/lib/python3.8/site-packages/sklearn/metrics/_classification.py:1471: UndefinedMetricWarning: Precision and F-score are ill-defined and being set to 0.0 in labels with no predicted samples. Use `zero_division` parameter to control this behavior.\n",
      "  _warn_prf(average, modifier, msg_start, len(result))\n"
     ]
    },
    {
     "name": "stdout",
     "output_type": "stream",
     "text": [
      "Enter the following wine characteristics:\n"
     ]
    },
    {
     "name": "stdin",
     "output_type": "stream",
     "text": [
      "Type (0 for red, 1 for white):  0\n",
      "Fixed acidity:  1\n",
      "Volatile acidity:  1\n",
      "Citric acid:  1\n",
      "Residual sugar:  1\n",
      "Chlorides:  1\n",
      "Free sulfur dioxide:  1\n",
      "Total sulfur dioxide:  1\n",
      "Density:  1\n",
      "pH:  1\n",
      "Sulphates:  1\n",
      "Alcohol:  1\n"
     ]
    },
    {
     "ename": "AttributeError",
     "evalue": "'numpy.ndarray' object has no attribute 'columns'",
     "output_type": "error",
     "traceback": [
      "\u001b[0;31m---------------------------------------------------------------------------\u001b[0m",
      "\u001b[0;31mAttributeError\u001b[0m                            Traceback (most recent call last)",
      "Cell \u001b[0;32mIn[7], line 71\u001b[0m\n\u001b[1;32m     68\u001b[0m     \u001b[38;5;28mprint\u001b[39m(\u001b[38;5;124mf\u001b[39m\u001b[38;5;124m\"\u001b[39m\u001b[38;5;124mPredicted Wine Quality: \u001b[39m\u001b[38;5;132;01m{\u001b[39;00mpredicted_quality[\u001b[38;5;241m0\u001b[39m]\u001b[38;5;132;01m}\u001b[39;00m\u001b[38;5;124m\"\u001b[39m)\n\u001b[1;32m     70\u001b[0m \u001b[38;5;66;03m# Run the function to prompt user and predict\u001b[39;00m\n\u001b[0;32m---> 71\u001b[0m \u001b[43mpredict_wine_quality\u001b[49m\u001b[43m(\u001b[49m\u001b[43m)\u001b[49m\n",
      "Cell \u001b[0;32mIn[7], line 61\u001b[0m, in \u001b[0;36mpredict_wine_quality\u001b[0;34m()\u001b[0m\n\u001b[1;32m     56\u001b[0m alcohol \u001b[38;5;241m=\u001b[39m \u001b[38;5;28mfloat\u001b[39m(\u001b[38;5;28minput\u001b[39m(\u001b[38;5;124m\"\u001b[39m\u001b[38;5;124mAlcohol: \u001b[39m\u001b[38;5;124m\"\u001b[39m))\n\u001b[1;32m     58\u001b[0m \u001b[38;5;66;03m# Create a DataFrame for the input\u001b[39;00m\n\u001b[1;32m     59\u001b[0m input_data \u001b[38;5;241m=\u001b[39m pd\u001b[38;5;241m.\u001b[39mDataFrame([[type_, fixed_acidity, volatile_acidity, citric_acid, residual_sugar, chlorides,\n\u001b[1;32m     60\u001b[0m                             free_sulfur_dioxide, total_sulfur_dioxide, density, pH, sulphates, alcohol]],\n\u001b[0;32m---> 61\u001b[0m                           columns\u001b[38;5;241m=\u001b[39m\u001b[43mX\u001b[49m\u001b[38;5;241;43m.\u001b[39;49m\u001b[43mcolumns\u001b[49m)\n\u001b[1;32m     63\u001b[0m \u001b[38;5;66;03m# Scale the input data\u001b[39;00m\n\u001b[1;32m     64\u001b[0m input_data \u001b[38;5;241m=\u001b[39m scaler\u001b[38;5;241m.\u001b[39mtransform(input_data)\n",
      "\u001b[0;31mAttributeError\u001b[0m: 'numpy.ndarray' object has no attribute 'columns'"
     ]
    }
   ],
   "source": [
    "from sklearn.model_selection import train_test_split\n",
    "from sklearn.svm import SVC\n",
    "from sklearn.metrics import accuracy_score, classification_report\n",
    "from sklearn.preprocessing import StandardScaler, LabelEncoder\n",
    "from sklearn.impute import SimpleImputer\n",
    "import pandas as pd\n",
    "\n",
    "\n",
    "\n",
    "wine_data = pd.read_csv('/home/user/ajay das/MCA-LAB-S3/Data Science/datasets/Wine_Quality.csv')\n",
    "\n",
    "# Step 1: Data Preprocessing\n",
    "# Handle missing values by imputing them with the mean (for numeric columns)\n",
    "imputer = SimpleImputer(strategy='mean')\n",
    "wine_data.iloc[:, 1:-1] = imputer.fit_transform(wine_data.iloc[:, 1:-1])\n",
    "\n",
    "# Encode the 'type' column to numeric values\n",
    "encoder = LabelEncoder()\n",
    "wine_data['type'] = encoder.fit_transform(wine_data['type'])\n",
    "\n",
    "# Separate features and target\n",
    "X = wine_data.drop(columns='quality')\n",
    "y = wine_data['quality']\n",
    "\n",
    "# Standardize the features\n",
    "scaler = StandardScaler()\n",
    "X = scaler.fit_transform(X)\n",
    "\n",
    "# Step 2: Split the dataset into training and testing sets\n",
    "X_train, X_test, y_train, y_test = train_test_split(X, y, test_size=0.2, random_state=42)\n",
    "\n",
    "# Step 3: Train an SVM model\n",
    "svm_model = SVC(kernel='linear', random_state=42)\n",
    "svm_model.fit(X_train, y_train)\n",
    "\n",
    "# Step 4: Evaluate the model on the test set\n",
    "y_pred = svm_model.predict(X_test)\n",
    "accuracy = accuracy_score(y_test, y_pred)\n",
    "report = classification_report(y_test, y_pred)\n",
    "\n",
    "accuracy, report\n",
    "# Define a function to take user input and make predictions\n",
    "def predict_wine_quality():\n",
    "    print(\"Enter the following wine characteristics:\")\n",
    "    type_ = int(input(\"Type (0 for red, 1 for white): \"))\n",
    "    fixed_acidity = float(input(\"Fixed acidity: \"))\n",
    "    volatile_acidity = float(input(\"Volatile acidity: \"))\n",
    "    citric_acid = float(input(\"Citric acid: \"))\n",
    "    residual_sugar = float(input(\"Residual sugar: \"))\n",
    "    chlorides = float(input(\"Chlorides: \"))\n",
    "    free_sulfur_dioxide = float(input(\"Free sulfur dioxide: \"))\n",
    "    total_sulfur_dioxide = float(input(\"Total sulfur dioxide: \"))\n",
    "    density = float(input(\"Density: \"))\n",
    "    pH = float(input(\"pH: \"))\n",
    "    sulphates = float(input(\"Sulphates: \"))\n",
    "    alcohol = float(input(\"Alcohol: \"))\n",
    "\n",
    "    # Create a DataFrame for the input\n",
    "    input_data = pd.DataFrame([[type_, fixed_acidity, volatile_acidity, citric_acid, residual_sugar, chlorides,\n",
    "                                free_sulfur_dioxide, total_sulfur_dioxide, density, pH, sulphates, alcohol]],\n",
    "                              columns=X.columns)\n",
    "\n",
    "    # Scale the input data\n",
    "    input_data = scaler.transform(input_data)\n",
    "\n",
    "    # Predict the quality\n",
    "    predicted_quality = svm_model.predict(input_data)\n",
    "    print(f\"Predicted Wine Quality: {predicted_quality[0]}\")\n",
    "\n",
    "# Run the function to prompt user and predict\n",
    "predict_wine_quality()\n"
   ]
  },
  {
   "cell_type": "code",
   "execution_count": null,
   "id": "7bba829b-cada-4023-a813-f7eb578b1b92",
   "metadata": {},
   "outputs": [],
   "source": []
  }
 ],
 "metadata": {
  "kernelspec": {
   "display_name": "Python 3 (ipykernel)",
   "language": "python",
   "name": "python3"
  },
  "language_info": {
   "codemirror_mode": {
    "name": "ipython",
    "version": 3
   },
   "file_extension": ".py",
   "mimetype": "text/x-python",
   "name": "python",
   "nbconvert_exporter": "python",
   "pygments_lexer": "ipython3",
   "version": "3.8.10"
  }
 },
 "nbformat": 4,
 "nbformat_minor": 5
}
