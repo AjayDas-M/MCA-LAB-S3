{
 "cells": [
  {
   "cell_type": "code",
   "execution_count": 3,
   "id": "2cc200f6-f3f1-4d0f-8990-1d1426a024f6",
   "metadata": {},
   "outputs": [
    {
     "name": "stdout",
     "output_type": "stream",
     "text": [
      "\n",
      "Model Performance:\n",
      "Accuracy: 1.0\n",
      "\n",
      "Detailed Classification Report:\n",
      "              precision    recall  f1-score   support\n",
      "\n",
      "      Setosa       1.00      1.00      1.00        10\n",
      "  Versicolor       1.00      1.00      1.00         9\n",
      "   Virginica       1.00      1.00      1.00        11\n",
      "\n",
      "    accuracy                           1.00        30\n",
      "   macro avg       1.00      1.00      1.00        30\n",
      "weighted avg       1.00      1.00      1.00        30\n",
      "\n",
      "\n",
      "Enter the following measurements (in cm):\n"
     ]
    },
    {
     "name": "stdin",
     "output_type": "stream",
     "text": [
      "Sepal Length:  5.1\n",
      "Sepal Width:  2.5\n",
      "Petal Length:  2.0\n",
      "Petal Width:  0.5\n"
     ]
    },
    {
     "name": "stdout",
     "output_type": "stream",
     "text": [
      "\n",
      "Predicted Iris Variety: Setosa\n"
     ]
    },
    {
     "name": "stderr",
     "output_type": "stream",
     "text": [
      "/home/user/.local/lib/python3.8/site-packages/sklearn/base.py:465: UserWarning: X does not have valid feature names, but StandardScaler was fitted with feature names\n",
      "  warnings.warn(\n"
     ]
    }
   ],
   "source": [
    "import pandas as pd\n",
    "import numpy as np\n",
    "from sklearn.model_selection import train_test_split\n",
    "from sklearn.svm import SVC\n",
    "from sklearn.preprocessing import StandardScaler\n",
    "from sklearn.metrics import accuracy_score, classification_report\n",
    "\n",
    "# Read the data\n",
    "data = pd.read_csv('datasets/iris.csv')\n",
    "\n",
    "# Separate features and target\n",
    "X = data.drop('variety', axis=1)\n",
    "y = data['variety']\n",
    "\n",
    "# Split the data into training and testing sets\n",
    "X_train, X_test, y_train, y_test = train_test_split(X, y, test_size=0.2, random_state=42)\n",
    "\n",
    "# Scale the features\n",
    "scaler = StandardScaler()\n",
    "X_train_scaled = scaler.fit_transform(X_train)\n",
    "X_test_scaled = scaler.transform(X_test)\n",
    "\n",
    "# Create and train the SVM classifier\n",
    "svm_classifier = SVC(kernel='rbf', random_state=42)\n",
    "svm_classifier.fit(X_train_scaled, y_train)\n",
    "\n",
    "# Evaluate model performance\n",
    "y_pred = svm_classifier.predict(X_test_scaled)\n",
    "print(\"\\nModel Performance:\")\n",
    "print(\"Accuracy:\", accuracy_score(y_test, y_pred))\n",
    "print(\"\\nDetailed Classification Report:\")\n",
    "print(classification_report(y_test, y_pred))\n",
    "\n",
    "# Get user input\n",
    "print(\"\\nEnter the following measurements (in cm):\")\n",
    "try:\n",
    "    sepal_length = float(input(\"Sepal Length: \"))\n",
    "    sepal_width = float(input(\"Sepal Width: \"))\n",
    "    petal_length = float(input(\"Petal Length: \"))\n",
    "    petal_width = float(input(\"Petal Width: \"))\n",
    "    \n",
    "    # Create input array and scale it\n",
    "    input_data = np.array([[sepal_length, sepal_width, petal_length, petal_width]])\n",
    "    input_scaled = scaler.transform(input_data)\n",
    "    \n",
    "    # Make prediction\n",
    "    prediction = svm_classifier.predict(input_scaled)\n",
    "    print(f\"\\nPredicted Iris Variety: {prediction[0]}\")\n",
    "    \n",
    "except ValueError:\n",
    "    print(\"Please enter valid numerical values!\")"
   ]
  }
 ],
 "metadata": {
  "kernelspec": {
   "display_name": "Python 3 (ipykernel)",
   "language": "python",
   "name": "python3"
  },
  "language_info": {
   "codemirror_mode": {
    "name": "ipython",
    "version": 3
   },
   "file_extension": ".py",
   "mimetype": "text/x-python",
   "name": "python",
   "nbconvert_exporter": "python",
   "pygments_lexer": "ipython3",
   "version": "3.8.10"
  }
 },
 "nbformat": 4,
 "nbformat_minor": 5
}
